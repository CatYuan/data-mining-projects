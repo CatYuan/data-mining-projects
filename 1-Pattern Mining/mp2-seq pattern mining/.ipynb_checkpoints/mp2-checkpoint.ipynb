{
 "cells": [
  {
   "cell_type": "code",
   "execution_count": 19,
   "metadata": {},
   "outputs": [],
   "source": [
    "import numpy as np\n",
    "import pandas as pd"
   ]
  },
  {
   "cell_type": "code",
   "execution_count": 22,
   "metadata": {},
   "outputs": [],
   "source": [
    "# given info\n",
    "rel_sup = 0.01\n",
    "abs_sup = 100 # should be greater than or equal to abs_sup\n",
    "\n",
    "# reading in from file\n",
    "all_categories = {}\n",
    "in_fp = open('reviews_sample.txt', 'r')\n",
    "lines = in_fp.readlines()\n",
    "num_trans = 0\n",
    "trans_db = []\n",
    "for line in lines:\n",
    "    num_trans += 1\n",
    "    transactions = line.strip().split(' ')\n",
    "    local_cats = set(transactions)\n",
    "    trans_db.append(transactions)\n",
    "    for cat in local_cats:\n",
    "        if cat in all_categories:\n",
    "            all_categories[cat] += 1\n",
    "        else:\n",
    "            all_categories[cat] = 1\n",
    "all_categories = pd.DataFrame({'category': list(all_categories.keys()), 'support': list(all_categories.values())})\n",
    "\n",
    "# finding freq-1 patterns\n",
    "freq1 = all_categories[all_categories['support'] / num_trans >= rel_sup]\n",
    "\n",
    "# printing to output\n",
    "part1_fp = open('part1_patterns.txt', 'w')\n",
    "for indx in range(freq1.shape[0]):\n",
    "    support = freq1.iloc[indx]['support']\n",
    "    category = freq1.iloc[indx]['category']\n",
    "    print(f'{support}:{category}', file=part1_fp)\n",
    "part1_fp.close()"
   ]
  },
  {
   "cell_type": "code",
   "execution_count": null,
   "metadata": {},
   "outputs": [],
   "source": []
  },
  {
   "cell_type": "code",
   "execution_count": null,
   "metadata": {},
   "outputs": [],
   "source": []
  },
  {
   "cell_type": "code",
   "execution_count": 23,
   "metadata": {},
   "outputs": [],
   "source": [
    "all_categories = {}\n",
    "in_fp = open('reviews_sample.txt', 'r')\n",
    "lines = in_fp.readlines()\n",
    "for line in lines:\n",
    "    visited = {}\n",
    "    transactions = line.strip().split(' ')\n",
    "    for index in range(len(transactions) - 1):\n",
    "        trans1 = transactions[index]\n",
    "        trans2 = transactions[index+1]\n",
    "        cat = trans1+\";\"+trans2\n",
    "        if (cat not in visited) and (cat in all_categories):\n",
    "            visited[cat] = True\n",
    "            all_categories[cat] += 1\n",
    "        elif cat not in visited:\n",
    "            visited[cat] = True\n",
    "            all_categories[cat] = 1\n",
    "all_categories = pd.DataFrame({'category': list(all_categories.keys()), 'support': list(all_categories.values())})\n",
    "\n",
    "# finding freq-1 patterns\n",
    "freq2 = all_categories[all_categories['support'] / num_trans >= rel_sup]\n",
    "\n",
    "# printing to output\n",
    "part2_fp = open('part2_patterns.txt', 'w')\n",
    "for indx in range(freq2.shape[0]):\n",
    "    support = freq2.iloc[indx]['support']\n",
    "    category = freq2.iloc[indx]['category']\n",
    "    print(f'{support}:{category}', file=part2_fp)\n",
    "part2_fp.close()"
   ]
  },
  {
   "cell_type": "code",
   "execution_count": null,
   "metadata": {},
   "outputs": [],
   "source": []
  },
  {
   "cell_type": "code",
   "execution_count": null,
   "metadata": {},
   "outputs": [],
   "source": []
  },
  {
   "cell_type": "code",
   "execution_count": null,
   "metadata": {},
   "outputs": [],
   "source": []
  },
  {
   "cell_type": "code",
   "execution_count": null,
   "metadata": {},
   "outputs": [],
   "source": []
  }
 ],
 "metadata": {
  "kernelspec": {
   "display_name": "Python 3",
   "language": "python",
   "name": "python3"
  },
  "language_info": {
   "codemirror_mode": {
    "name": "ipython",
    "version": 3
   },
   "file_extension": ".py",
   "mimetype": "text/x-python",
   "name": "python",
   "nbconvert_exporter": "python",
   "pygments_lexer": "ipython3",
   "version": "3.7.3"
  }
 },
 "nbformat": 4,
 "nbformat_minor": 2
}
