{
 "cells": [
  {
   "cell_type": "code",
   "execution_count": 9,
   "id": "86956a3b",
   "metadata": {},
   "outputs": [],
   "source": [
    "import math"
   ]
  },
  {
   "cell_type": "code",
   "execution_count": 10,
   "id": "7f6d2798",
   "metadata": {},
   "outputs": [],
   "source": [
    "# reading input\n",
    "# t = []\n",
    "# for line in sys.stdin:\n",
    "#     if '\\n' == line.rstrip():\n",
    "#         break\n",
    "#     data = line.split()\n",
    "#     t.append(data[0])\n",
    "train_data = {} # {class: [tuple_nums]}\n",
    "tuples = [] # [[attrs]] - does not include name or class in attrs\n",
    "test_data = [] # [tuple_num]\n",
    "\n",
    "homepath=\"./q1_testcase_additional/\"\n",
    "filename = \"input5.txt\"\n",
    "file = open(homepath+filename, 'r')\n",
    "Lines = file.readlines()\n",
    "tuple_num = -1\n",
    "for line in Lines:\n",
    "    if tuple_num == -1: \n",
    "        tuple_num += 1\n",
    "        continue\n",
    "    data = line.split(',')\n",
    "    classification = int(data[-1]) - 1\n",
    "    if classification != -2:\n",
    "        if classification in train_data:\n",
    "            train_data[classification].append(tuple_num)\n",
    "        else:\n",
    "            train_data[classification] = [tuple_num]\n",
    "    else:\n",
    "        test_data.append(tuple_num)\n",
    "    tuples.append(list(map(int, data[1:-1])))\n",
    "    tuple_num += 1\n",
    "\n",
    "# print('train_data: ', train_data)\n",
    "# print('test_data: ', test_data)\n",
    "# print('tuples: ', tuples)"
   ]
  },
  {
   "cell_type": "code",
   "execution_count": 11,
   "id": "e0295c56",
   "metadata": {},
   "outputs": [],
   "source": [
    "# training params for naive bayes\n",
    "# use Laplacian correction with count of 0.1 for smoothing\n",
    "laplace_correction = 0.1\n",
    "num_classes = 7\n",
    "num_features = 16\n",
    "\n",
    "marginal_probs = [] # probability of each class\n",
    "cond_probs = [] # [feature_num: {feature_val: [class1, ..., class7]}]\n",
    "N = len(tuples) - len(test_data)\n",
    "\n",
    "# computing marginal probabilities\n",
    "for classification in range(num_classes):\n",
    "    Py = 0.1 / (N+0.1*num_classes)\n",
    "    if classification in train_data.keys():\n",
    "        Py = (len(train_data[classification]) + 0.1) / (N + 0.1*num_classes)\n",
    "    marginal_probs.append(Py)\n",
    "    \n",
    "# compute conditional probabilities\n",
    "for feature in range(num_features):\n",
    "    num_feat_vals = range(2)\n",
    "    if feature==12:\n",
    "        num_feat_vals = [0, 2, 4, 5, 6, 8]\n",
    "    feature_num_prob_dict = {}\n",
    "    for feat_val in num_feat_vals:\n",
    "        feature_val_probs = []\n",
    "        for classification in range(num_classes):\n",
    "            p = 0.1 / (0.1*len(num_feat_vals))\n",
    "            if classification in train_data.keys():\n",
    "                samples_w_given_class = len(train_data[classification])\n",
    "                samples_w_class_and_feat = 0\n",
    "                for tuple_num in train_data[classification]:\n",
    "                    if tuples[tuple_num][feature] == feat_val:\n",
    "                        samples_w_class_and_feat += 1\n",
    "                p = (samples_w_class_and_feat + 0.1) / (samples_w_given_class + 0.1 * len(num_feat_vals))\n",
    "            feature_val_probs.append(p)\n",
    "        # add to dict\n",
    "        feature_num_prob_dict[feat_val] = feature_val_probs\n",
    "    cond_probs.append(feature_num_prob_dict)"
   ]
  },
  {
   "cell_type": "code",
   "execution_count": 12,
   "id": "23b61600",
   "metadata": {},
   "outputs": [
    {
     "name": "stdout",
     "output_type": "stream",
     "text": [
      "4\n",
      "1\n",
      "1\n",
      "1\n",
      "1\n",
      "1\n",
      "1\n",
      "1\n",
      "1\n",
      "1\n",
      "2\n",
      "7\n",
      "6\n",
      "5\n",
      "2\n",
      "1\n",
      "4\n",
      "4\n",
      "1\n",
      "1\n"
     ]
    }
   ],
   "source": [
    "# running on test set and print predicted classtype\n",
    "for tuple_num in test_data:\n",
    "    prob_classes = marginal_probs.copy()\n",
    "    for feat_num in range(len(tuples[tuple_num])):\n",
    "        feat_val = tuples[tuple_num][feat_num]\n",
    "        prob = cond_probs[feat_num][feat_val]\n",
    "        prob_classes = [a*b for a, b in zip(prob_classes, prob)]\n",
    "    classification = prob_classes.index(max(prob_classes)) + 1\n",
    "    print(classification)"
   ]
  },
  {
   "cell_type": "code",
   "execution_count": null,
   "id": "6aa48edf",
   "metadata": {},
   "outputs": [],
   "source": []
  }
 ],
 "metadata": {
  "kernelspec": {
   "display_name": "Python 3 (ipykernel)",
   "language": "python",
   "name": "python3"
  },
  "language_info": {
   "codemirror_mode": {
    "name": "ipython",
    "version": 3
   },
   "file_extension": ".py",
   "mimetype": "text/x-python",
   "name": "python",
   "nbconvert_exporter": "python",
   "pygments_lexer": "ipython3",
   "version": "3.8.12"
  }
 },
 "nbformat": 4,
 "nbformat_minor": 5
}
