{
 "cells": [
  {
   "cell_type": "code",
   "execution_count": 1,
   "metadata": {},
   "outputs": [],
   "source": [
    "import pandas as pd\n",
    "import numpy as np\n",
    "import math"
   ]
  },
  {
   "cell_type": "code",
   "execution_count": 11,
   "metadata": {},
   "outputs": [
    {
     "data": {
      "text/html": [
       "<div>\n",
       "<style scoped>\n",
       "    .dataframe tbody tr th:only-of-type {\n",
       "        vertical-align: middle;\n",
       "    }\n",
       "\n",
       "    .dataframe tbody tr th {\n",
       "        vertical-align: top;\n",
       "    }\n",
       "\n",
       "    .dataframe thead th {\n",
       "        text-align: right;\n",
       "    }\n",
       "</style>\n",
       "<table border=\"1\" class=\"dataframe\">\n",
       "  <thead>\n",
       "    <tr style=\"text-align: right;\">\n",
       "      <th></th>\n",
       "      <th>y</th>\n",
       "      <th>y_hat</th>\n",
       "    </tr>\n",
       "  </thead>\n",
       "  <tbody>\n",
       "    <tr>\n",
       "      <th>0</th>\n",
       "      <td>2</td>\n",
       "      <td>1</td>\n",
       "    </tr>\n",
       "    <tr>\n",
       "      <th>1</th>\n",
       "      <td>0</td>\n",
       "      <td>2</td>\n",
       "    </tr>\n",
       "    <tr>\n",
       "      <th>2</th>\n",
       "      <td>2</td>\n",
       "      <td>0</td>\n",
       "    </tr>\n",
       "    <tr>\n",
       "      <th>3</th>\n",
       "      <td>1</td>\n",
       "      <td>1</td>\n",
       "    </tr>\n",
       "    <tr>\n",
       "      <th>4</th>\n",
       "      <td>2</td>\n",
       "      <td>2</td>\n",
       "    </tr>\n",
       "  </tbody>\n",
       "</table>\n",
       "</div>"
      ],
      "text/plain": [
       "   y  y_hat\n",
       "0  2      1\n",
       "1  0      2\n",
       "2  2      0\n",
       "3  1      1\n",
       "4  2      2"
      ]
     },
     "execution_count": 11,
     "metadata": {},
     "output_type": "execute_result"
    }
   ],
   "source": [
    "# reading output\n",
    "# t = ground truth\n",
    "# c = clusters from algo\n",
    "filepath = './data/sample1.txt'\n",
    "df = pd.read_csv(filepath, sep=' ', header=None, names=['y', 'y_hat'])\n",
    "t = df['y'].tolist()\n",
    "c = df['y_hat'].tolist()\n",
    "\n",
    "df.head()"
   ]
  },
  {
   "cell_type": "code",
   "execution_count": 12,
   "metadata": {},
   "outputs": [
    {
     "data": {
      "text/plain": [
       "0.8488486176845911"
      ]
     },
     "execution_count": 12,
     "metadata": {},
     "output_type": "execute_result"
    }
   ],
   "source": [
    "# calculating nmi\n",
    "\n",
    "def getClustering(cluster_list):\n",
    "    all_clusters = {}\n",
    "    for obj, cluster in enumerate(cluster_list):\n",
    "        if cluster in all_clusters:\n",
    "            all_clusters[cluster].append(obj)\n",
    "        else:\n",
    "            all_clusters[cluster] = [obj]\n",
    "    return all_clusters\n",
    "\n",
    "def marginalProb(clustering, n):\n",
    "    # finding probabilities of each cluster\n",
    "    marginal_prob = []\n",
    "    cluster_nums = list(clustering.keys())\n",
    "    cluster_nums.sort()\n",
    "    for cluster in cluster_nums:\n",
    "        ni = len(clustering[cluster])\n",
    "        marginal_prob.append(ni/n)\n",
    "    return marginal_prob\n",
    "\n",
    "def entropy(marginal_prob):\n",
    "    log_probs = [math.log(x) for x in marginal_prob]\n",
    "    entropy_ea_cluster = [a*b for a,b in zip(marginal_prob, log_probs)]\n",
    "    return -sum(entropy_ea_cluster)\n",
    "    \n",
    "n = len(c)\n",
    "c_clustering = getClustering(c)\n",
    "t_clustering = getClustering(t)\n",
    "c_mprob = marginalProb(c_clustering,n)\n",
    "t_mprob = marginalProb(t_clustering,n)\n",
    "\n",
    "# calculating mutual info\n",
    "mi_ea_cluster = []\n",
    "nijs = []\n",
    "for i in c_clustering.keys():\n",
    "    for j in t_clustering.keys():\n",
    "        nij = len(list(set(c_clustering[i]) & set(t_clustering[j])))\n",
    "        nijs.append(nij)\n",
    "        pij = nij/n\n",
    "        if pij != 0:\n",
    "            mi_ea_cluster.append(pij * math.log(pij / (c_mprob[i]*t_mprob[j])))\n",
    "mutualInfo = sum(mi_ea_cluster)\n",
    "\n",
    "nmi = mutualInfo / math.sqrt(entropy(c_mprob) * entropy(t_mprob))\n",
    "\n",
    "nmi"
   ]
  },
  {
   "cell_type": "code",
   "execution_count": 13,
   "metadata": {},
   "outputs": [
    {
     "data": {
      "text/plain": [
       "0.8769590495449949"
      ]
     },
     "execution_count": 13,
     "metadata": {},
     "output_type": "execute_result"
    }
   ],
   "source": [
    "# calculating jaccard coeff\n",
    "nij_sq = [x**2 for x in nijs]\n",
    "tp = 1/2 * (sum(nij_sq) - n)\n",
    "\n",
    "fn = []\n",
    "for cluster in t_clustering.keys():\n",
    "    fn.append(math.comb(len(t_clustering[cluster]), 2))\n",
    "fn = sum(fn) - tp\n",
    "\n",
    "fp = []\n",
    "for cluster in c_clustering.keys():\n",
    "    fp.append(math.comb(len(c_clustering[cluster]), 2))\n",
    "fp = sum(fp) - tp\n",
    "\n",
    "tn = n-(tp+fn+fp)\n",
    "\n",
    "jaccard = tp/(tp+fn+fp)\n",
    "jaccard"
   ]
  },
  {
   "cell_type": "code",
   "execution_count": 14,
   "metadata": {},
   "outputs": [
    {
     "name": "stdout",
     "output_type": "stream",
     "text": [
      "0.849 0.877\n"
     ]
    }
   ],
   "source": [
    "# printing output - rounded to 3 decimal places\n",
    "# the two numbers should be separated by a space\n",
    "# NMI Jaccard\n",
    "print(format(nmi, \".3f\"), format(jaccard, \".3f\"))"
   ]
  },
  {
   "cell_type": "code",
   "execution_count": null,
   "metadata": {},
   "outputs": [],
   "source": []
  }
 ],
 "metadata": {
  "kernelspec": {
   "display_name": "Python 3",
   "language": "python",
   "name": "python3"
  },
  "language_info": {
   "codemirror_mode": {
    "name": "ipython",
    "version": 3
   },
   "file_extension": ".py",
   "mimetype": "text/x-python",
   "name": "python",
   "nbconvert_exporter": "python",
   "pygments_lexer": "ipython3",
   "version": "3.9.6"
  }
 },
 "nbformat": 4,
 "nbformat_minor": 2
}
