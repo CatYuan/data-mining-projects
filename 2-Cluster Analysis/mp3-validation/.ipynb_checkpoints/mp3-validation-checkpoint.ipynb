{
 "cells": [
  {
   "cell_type": "code",
   "execution_count": 52,
   "metadata": {},
   "outputs": [],
   "source": [
    "import pandas as pd\n",
    "import numpy as np\n",
    "import math"
   ]
  },
  {
   "cell_type": "code",
   "execution_count": 53,
   "metadata": {},
   "outputs": [
    {
     "data": {
      "text/html": [
       "<div>\n",
       "<style scoped>\n",
       "    .dataframe tbody tr th:only-of-type {\n",
       "        vertical-align: middle;\n",
       "    }\n",
       "\n",
       "    .dataframe tbody tr th {\n",
       "        vertical-align: top;\n",
       "    }\n",
       "\n",
       "    .dataframe thead th {\n",
       "        text-align: right;\n",
       "    }\n",
       "</style>\n",
       "<table border=\"1\" class=\"dataframe\">\n",
       "  <thead>\n",
       "    <tr style=\"text-align: right;\">\n",
       "      <th></th>\n",
       "      <th>y</th>\n",
       "      <th>y_hat</th>\n",
       "    </tr>\n",
       "  </thead>\n",
       "  <tbody>\n",
       "    <tr>\n",
       "      <th>0</th>\n",
       "      <td>2</td>\n",
       "      <td>3</td>\n",
       "    </tr>\n",
       "    <tr>\n",
       "      <th>1</th>\n",
       "      <td>0</td>\n",
       "      <td>0</td>\n",
       "    </tr>\n",
       "    <tr>\n",
       "      <th>2</th>\n",
       "      <td>0</td>\n",
       "      <td>1</td>\n",
       "    </tr>\n",
       "    <tr>\n",
       "      <th>3</th>\n",
       "      <td>1</td>\n",
       "      <td>1</td>\n",
       "    </tr>\n",
       "    <tr>\n",
       "      <th>4</th>\n",
       "      <td>2</td>\n",
       "      <td>2</td>\n",
       "    </tr>\n",
       "  </tbody>\n",
       "</table>\n",
       "</div>"
      ],
      "text/plain": [
       "   y  y_hat\n",
       "0  2      3\n",
       "1  0      0\n",
       "2  0      1\n",
       "3  1      1\n",
       "4  2      2"
      ]
     },
     "execution_count": 53,
     "metadata": {},
     "output_type": "execute_result"
    }
   ],
   "source": [
    "# reading output\n",
    "# t = ground truth\n",
    "# c = clusters from algo\n",
    "filepath = './data/sample0.txt'\n",
    "df = pd.read_csv(filepath, sep=' ', header=None, names=['y', 'y_hat'])\n",
    "t = df['y'].tolist()\n",
    "c = df['y_hat'].tolist()\n",
    "\n",
    "df.head()"
   ]
  },
  {
   "cell_type": "code",
   "execution_count": 47,
   "metadata": {},
   "outputs": [
    {
     "data": {
      "text/plain": [
       "0.6559932774556996"
      ]
     },
     "execution_count": 47,
     "metadata": {},
     "output_type": "execute_result"
    }
   ],
   "source": [
    "# calculating nmi\n",
    "\n",
    "def getClustering(cluster_list):\n",
    "    all_clusters = {}\n",
    "    for obj, cluster in enumerate(cluster_list):\n",
    "        if cluster in all_clusters:\n",
    "            all_clusters[cluster].append(obj)\n",
    "        else:\n",
    "            all_clusters[cluster] = [obj]\n",
    "    return all_clusters\n",
    "\n",
    "def marginalProb(clustering, n):\n",
    "    # finding probabilities of each cluster\n",
    "    marginal_prob = []\n",
    "    cluster_nums = list(clustering.keys())\n",
    "    cluster_nums.sort()\n",
    "    for cluster in cluster_nums:\n",
    "        ni = len(clustering[cluster])\n",
    "        marginal_prob.append(ni/n)\n",
    "    return marginal_prob\n",
    "\n",
    "def entropy(marginal_prob):\n",
    "    log_probs = [math.log(x) for x in marginal_prob]\n",
    "    entropy_ea_cluster = [a*b for a,b in zip(marginal_prob, log_probs)]\n",
    "    return -sum(entropy_ea_cluster)\n",
    "    \n",
    "n = len(c)\n",
    "c_clustering = getClustering(c)\n",
    "t_clustering = getClustering(t)\n",
    "c_mprob = marginalProb(c_clustering,n)\n",
    "t_mprob = marginalProb(t_clustering,n)\n",
    "\n",
    "# calculating mutual info\n",
    "mi_ea_cluster = []\n",
    "nijs = []\n",
    "for i in range(len(c_mprob)):\n",
    "    for j in range(len(t_mprob)):\n",
    "        nij = len(list(set(c_clustering[i]) & set(t_clustering[j])))\n",
    "        nijs.append(nij)\n",
    "        pij = nij/n\n",
    "        if pij != 0:\n",
    "            mi_ea_cluster.append(pij * math.log(pij / (c_mprob[i]*t_mprob[j])))\n",
    "mutualInfo = sum(mi_ea_cluster)\n",
    "\n",
    "nmi = mutualInfo / math.sqrt(entropy(c_mprob) * entropy(t_mprob))\n",
    "\n",
    "nmi"
   ]
  },
  {
   "cell_type": "code",
   "execution_count": 48,
   "metadata": {},
   "outputs": [
    {
     "ename": "AttributeError",
     "evalue": "module 'math' has no attribute 'comb'",
     "output_type": "error",
     "traceback": [
      "\u001b[1;31m---------------------------------------------------------------------------\u001b[0m",
      "\u001b[1;31mAttributeError\u001b[0m                            Traceback (most recent call last)",
      "\u001b[1;32m<ipython-input-48-461c94900b1d>\u001b[0m in \u001b[0;36m<module>\u001b[1;34m()\u001b[0m\n\u001b[0;32m      5\u001b[0m \u001b[0mfn\u001b[0m \u001b[1;33m=\u001b[0m \u001b[1;33m[\u001b[0m\u001b[1;33m]\u001b[0m\u001b[1;33m\u001b[0m\u001b[0m\n\u001b[0;32m      6\u001b[0m \u001b[1;32mfor\u001b[0m \u001b[0mcluster\u001b[0m \u001b[1;32min\u001b[0m \u001b[0mt_clustering\u001b[0m\u001b[1;33m.\u001b[0m\u001b[0mkeys\u001b[0m\u001b[1;33m(\u001b[0m\u001b[1;33m)\u001b[0m\u001b[1;33m:\u001b[0m\u001b[1;33m\u001b[0m\u001b[0m\n\u001b[1;32m----> 7\u001b[1;33m     \u001b[0mfn\u001b[0m\u001b[1;33m.\u001b[0m\u001b[0mappend\u001b[0m\u001b[1;33m(\u001b[0m\u001b[0mmath\u001b[0m\u001b[1;33m.\u001b[0m\u001b[0mcomb\u001b[0m\u001b[1;33m(\u001b[0m\u001b[0mlen\u001b[0m\u001b[1;33m(\u001b[0m\u001b[0mt_clustering\u001b[0m\u001b[1;33m[\u001b[0m\u001b[0mcluster\u001b[0m\u001b[1;33m]\u001b[0m\u001b[1;33m)\u001b[0m\u001b[1;33m,\u001b[0m \u001b[1;36m2\u001b[0m\u001b[1;33m)\u001b[0m\u001b[1;33m)\u001b[0m\u001b[1;33m\u001b[0m\u001b[0m\n\u001b[0m\u001b[0;32m      8\u001b[0m \u001b[0mfn\u001b[0m \u001b[1;33m=\u001b[0m \u001b[0msum\u001b[0m\u001b[1;33m(\u001b[0m\u001b[0mfn\u001b[0m\u001b[1;33m)\u001b[0m \u001b[1;33m-\u001b[0m \u001b[0mtp\u001b[0m\u001b[1;33m\u001b[0m\u001b[0m\n\u001b[0;32m      9\u001b[0m \u001b[1;33m\u001b[0m\u001b[0m\n",
      "\u001b[1;31mAttributeError\u001b[0m: module 'math' has no attribute 'comb'"
     ]
    }
   ],
   "source": [
    "# calculating jaccard coeff\n",
    "nij_sq = [x**2 for x in nijs]\n",
    "tp = 1/2 * (sum(nij_sq) - n)\n",
    "\n",
    "fn = []\n",
    "for cluster in t_clustering.keys():\n",
    "    fn.append(math.comb(len(t_clustering[cluster]), 2))\n",
    "fn = sum(fn) - tp\n",
    "\n",
    "fp = []\n",
    "for cluster in c_clustering.keys():\n",
    "    fp.append(math.comb(len(c_clustering[cluster]), 2))\n",
    "fp = sum(fp) - tp\n",
    "\n",
    "tn = n-(tp+fn+fp)\n",
    "\n",
    "jaccard = tp/(tp+fn+fp)\n",
    "jaccard"
   ]
  },
  {
   "cell_type": "code",
   "execution_count": 10,
   "metadata": {},
   "outputs": [
    {
     "name": "stdout",
     "output_type": "stream",
     "text": [
      "1.111 1.111\n"
     ]
    }
   ],
   "source": [
    "# printing output - rounded to 3 decimal places\n",
    "# the two numbers should be separated by a space\n",
    "# NMI Jaccard\n",
    "print(format(nmi, \".3f\"), format(jaccard, \".3f\"))"
   ]
  },
  {
   "cell_type": "code",
   "execution_count": null,
   "metadata": {},
   "outputs": [],
   "source": []
  }
 ],
 "metadata": {
  "kernelspec": {
   "display_name": "Python 3",
   "language": "python",
   "name": "python3"
  },
  "language_info": {
   "codemirror_mode": {
    "name": "ipython",
    "version": 3
   },
   "file_extension": ".py",
   "mimetype": "text/x-python",
   "name": "python",
   "nbconvert_exporter": "python",
   "pygments_lexer": "ipython3",
   "version": "3.6.5"
  }
 },
 "nbformat": 4,
 "nbformat_minor": 2
}
