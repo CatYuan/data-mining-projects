{
 "cells": [
  {
   "cell_type": "code",
   "execution_count": 1,
   "metadata": {},
   "outputs": [],
   "source": [
    "import numpy as np\n",
    "import pandas as pd\n",
    "import math"
   ]
  },
  {
   "cell_type": "code",
   "execution_count": 17,
   "metadata": {},
   "outputs": [
    {
     "name": "stdout",
     "output_type": "stream",
     "text": [
      "n = 20 , k = 2 , m = 2\n",
      "         x         y  cluster_no\n",
      "0  12.3330   76.8620           0\n",
      "1  -8.1833  115.0418           1\n",
      "2  46.1667   20.5833           2\n",
      "3   4.7361    6.8624           3\n",
      "4 -37.8635  144.8990           4\n"
     ]
    }
   ],
   "source": [
    "# reading input\n",
    "file_path = './input-data/input2.txt'\n",
    "places = pd.read_csv(file_path, sep=' ', \n",
    "                     skiprows=1, header=None, names=['y', 'x'])\n",
    "places = places[['x', 'y']]\n",
    "places.insert(2, 'cluster_no', np.arange(places.x.size), True)\n",
    "with open(file_path) as f:\n",
    "    params = f.readline().rstrip()\n",
    "[n, k, m] = params.split()\n",
    "n, m, k = int(n), int(m), int(k)\n",
    "\n",
    "places_x = places.x\n",
    "places_y = places.y\n",
    "places_cluster_no = list(range(len(places_x)))\n",
    "\n",
    "print('n =', n, ', k =', k, ', m =', m,)\n",
    "print(places.head())"
   ]
  },
  {
   "cell_type": "code",
   "execution_count": 18,
   "metadata": {},
   "outputs": [],
   "source": [
    "# define helper functions for defining similarity\n",
    "# return cluster_no and similarity measure of most similar to curr_cluster in all_pts\n",
    "def findSimilar(curr_cluster_no, places_x, places_y, places_cluster_no, m):\n",
    "    cluster_nos = list(set(places_cluster_no))\n",
    "    num_clusters = len(cluster_nos)\n",
    "    curr_cluster_indices = [index for index, cluster_no\\\n",
    "                            in enumerate(places_cluster_no)\\\n",
    "                            if cluster_no == curr_cluster_no]\n",
    "    \n",
    "    most_sim_cluster_no = -1\n",
    "    sim_measure = None\n",
    "    for other_cluster_no in cluster_nos:\n",
    "        if other_cluster_no == curr_cluster_no:\n",
    "            continue\n",
    "        other_cluster_indices = [index for index, cluster_no\\\n",
    "                                 in enumerate(places_cluster_no)\\\n",
    "                                 if cluster_no == other_cluster_no]\n",
    "        curr_sim_measure = None\n",
    "        if m == 0:\n",
    "            curr_sim_measure = singleLinkMeasure(curr_cluster_indices, other_cluster_indices, places_x, places_y)\n",
    "        elif m == 1:\n",
    "            curr_sim_measure = completeLinkMeasure(curr_cluster_indices, other_cluster_indices, places_x, places_y)\n",
    "        else:\n",
    "            curr_sim_measure = avgLinkMeasure(curr_cluster_indices, other_cluster_indices, places_x, places_y)\n",
    "        if sim_measure is None or curr_sim_measure < sim_measure:\n",
    "            sim_measure = curr_sim_measure\n",
    "            most_sim_cluster_no = other_cluster_no\n",
    "    return most_sim_cluster_no, sim_measure\n",
    "\n",
    "# calculates euclidean distance\n",
    "def distance(x1, y1, x2, y2):\n",
    "    return math.sqrt((x1-x2)**2 + (y1-y2)**2)\n",
    "\n",
    "# returns min dist between all pairs of points in 2 clusters\n",
    "def singleLinkMeasure(curr_cluster_indices, other_cluster_indices, places_x, places_y):\n",
    "    min_dist = None\n",
    "    for curr_cluster_indx in curr_cluster_indices:\n",
    "        for other_cluster_indx in other_cluster_indices:\n",
    "            curr_dist = distance(places_x[curr_cluster_indx], places_y[curr_cluster_indx], places_x[other_cluster_indx], places_y[other_cluster_indx])\n",
    "            if min_dist is None or curr_dist < min_dist:\n",
    "                min_dist = curr_dist\n",
    "    return min_dist\n",
    "    \n",
    "# returns max dist between all pairs of points in 2 clusters\n",
    "def completeLinkMeasure(curr_cluster_indices, other_cluster_indices, places_x, places_y):\n",
    "    max_dist = None\n",
    "    for curr_cluster_indx in curr_cluster_indices:\n",
    "        for other_cluster_indx in other_cluster_indices:\n",
    "            curr_dist = distance(places_x[curr_cluster_indx], places_y[curr_cluster_indx], places_x[other_cluster_indx], places_y[other_cluster_indx])\n",
    "            if max_dist is None or curr_dist > max_dist:\n",
    "                max_dist = curr_dist\n",
    "    return max_dist\n",
    "    \n",
    "# returns mean dist between all pairs of points in 2 clusters\n",
    "def avgLinkMeasure(curr_cluster_indices, other_cluster_indices, places_x, places_y):\n",
    "    num_pairs = 0\n",
    "    sum_dist = 0\n",
    "    for curr_cluster_indx in curr_cluster_indices:\n",
    "        for other_cluster_indx in other_cluster_indices:\n",
    "            num_pairs += 1\n",
    "            sum_dist += distance(places_x[curr_cluster_indx], places_y[curr_cluster_indx], places_x[other_cluster_indx], places_y[other_cluster_indx])\n",
    "    return sum_dist / num_pairs"
   ]
  },
  {
   "cell_type": "code",
   "execution_count": 19,
   "metadata": {},
   "outputs": [],
   "source": [
    "# perform AGNES\n",
    "all_cluster_nos = set(places_cluster_no)\n",
    "total_num_clusters = len(all_cluster_nos)\n",
    "while total_num_clusters != k:\n",
    "    cluster_pairs = []\n",
    "    sim_measures = []\n",
    "    for curr_cluster in all_cluster_nos:\n",
    "        sim_cluster_no, sim_measure = findSimilar(curr_cluster, places_x,\\\n",
    "                                                  places_y, places_cluster_no, m)\n",
    "        cluster_pairs.append((curr_cluster, sim_cluster_no))\n",
    "        sim_measures.append(sim_measure)\n",
    "    most_sim_indx = sim_measures.index(min(sim_measures))\n",
    "    # merge pts in clusters cluster1 and cluster2\n",
    "    cluster1_no = cluster_pairs[most_sim_indx][0]\n",
    "    cluster2_no = cluster_pairs[most_sim_indx][1]\n",
    "    for i in range(n):\n",
    "        val = places_cluster_no[i]\n",
    "        if val == cluster2_no:\n",
    "            places_cluster_no[i] = cluster1_no\n",
    "    all_cluster_nos = set(places_cluster_no)\n",
    "    total_num_clusters = len(all_cluster_nos)"
   ]
  },
  {
   "cell_type": "code",
   "execution_count": 20,
   "metadata": {},
   "outputs": [
    {
     "data": {
      "text/plain": [
       "[1, 1, 8, 8, 1, 8, 8, 8, 8, 1, 8, 1, 1, 8, 1, 1, 8, 8, 1, 8]"
      ]
     },
     "execution_count": 20,
     "metadata": {},
     "output_type": "execute_result"
    }
   ],
   "source": [
    "# print output\n",
    "places_cluster_no"
   ]
  },
  {
   "cell_type": "code",
   "execution_count": null,
   "metadata": {},
   "outputs": [],
   "source": []
  }
 ],
 "metadata": {
  "kernelspec": {
   "display_name": "Python 3",
   "language": "python",
   "name": "python3"
  },
  "language_info": {
   "codemirror_mode": {
    "name": "ipython",
    "version": 3
   },
   "file_extension": ".py",
   "mimetype": "text/x-python",
   "name": "python",
   "nbconvert_exporter": "python",
   "pygments_lexer": "ipython3",
   "version": "3.6.5"
  }
 },
 "nbformat": 4,
 "nbformat_minor": 2
}
