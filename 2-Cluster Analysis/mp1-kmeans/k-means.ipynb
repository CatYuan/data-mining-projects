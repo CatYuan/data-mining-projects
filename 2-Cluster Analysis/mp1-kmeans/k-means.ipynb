{
 "cells": [
  {
   "cell_type": "code",
   "execution_count": 40,
   "metadata": {},
   "outputs": [],
   "source": [
    "import numpy as np\n",
    "import pandas as pd\n",
    "import math\n",
    "import geopy.distance\n",
    "import matplotlib.pyplot as plt\n",
    "import seaborn"
   ]
  },
  {
   "cell_type": "code",
   "execution_count": 41,
   "metadata": {},
   "outputs": [],
   "source": [
    "# reading input from file\n",
    "places = pd.read_csv('./places.txt', header=None, names=['y', 'x'])\n",
    "places = places.reindex(columns=['x', 'y'])"
   ]
  },
  {
   "cell_type": "code",
   "execution_count": 42,
   "metadata": {},
   "outputs": [
    {
     "name": "stderr",
     "output_type": "stream",
     "text": [
      "C:\\Users\\cathe\\Anaconda3\\lib\\site-packages\\pandas\\core\\indexing.py:189: SettingWithCopyWarning: \n",
      "A value is trying to be set on a copy of a slice from a DataFrame\n",
      "\n",
      "See the caveats in the documentation: http://pandas.pydata.org/pandas-docs/stable/indexing.html#indexing-view-versus-copy\n",
      "  self._setitem_with_indexer(indexer, value)\n"
     ]
    },
    {
     "data": {
      "text/html": [
       "<div>\n",
       "<style scoped>\n",
       "    .dataframe tbody tr th:only-of-type {\n",
       "        vertical-align: middle;\n",
       "    }\n",
       "\n",
       "    .dataframe tbody tr th {\n",
       "        vertical-align: top;\n",
       "    }\n",
       "\n",
       "    .dataframe thead th {\n",
       "        text-align: right;\n",
       "    }\n",
       "</style>\n",
       "<table border=\"1\" class=\"dataframe\">\n",
       "  <thead>\n",
       "    <tr style=\"text-align: right;\">\n",
       "      <th></th>\n",
       "      <th>x</th>\n",
       "      <th>y</th>\n",
       "      <th>cluster_no</th>\n",
       "    </tr>\n",
       "  </thead>\n",
       "  <tbody>\n",
       "    <tr>\n",
       "      <th>0</th>\n",
       "      <td>33.451625</td>\n",
       "      <td>-112.070792</td>\n",
       "      <td>1</td>\n",
       "    </tr>\n",
       "    <tr>\n",
       "      <th>1</th>\n",
       "      <td>33.449298</td>\n",
       "      <td>-112.065542</td>\n",
       "      <td>1</td>\n",
       "    </tr>\n",
       "    <tr>\n",
       "      <th>2</th>\n",
       "      <td>33.456491</td>\n",
       "      <td>-112.073931</td>\n",
       "      <td>1</td>\n",
       "    </tr>\n",
       "    <tr>\n",
       "      <th>3</th>\n",
       "      <td>33.470116</td>\n",
       "      <td>-112.074866</td>\n",
       "      <td>1</td>\n",
       "    </tr>\n",
       "    <tr>\n",
       "      <th>4</th>\n",
       "      <td>43.477099</td>\n",
       "      <td>-80.525690</td>\n",
       "      <td>2</td>\n",
       "    </tr>\n",
       "  </tbody>\n",
       "</table>\n",
       "</div>"
      ],
      "text/plain": [
       "           x           y  cluster_no\n",
       "0  33.451625 -112.070792           1\n",
       "1  33.449298 -112.065542           1\n",
       "2  33.456491 -112.073931           1\n",
       "3  33.470116 -112.074866           1\n",
       "4  43.477099  -80.525690           2"
      ]
     },
     "execution_count": 42,
     "metadata": {},
     "output_type": "execute_result"
    }
   ],
   "source": [
    "# running kmeans algo\n",
    "k = 3\n",
    "\n",
    "# setting initial centroids using kmeans++\n",
    "centroids = places.sample()\n",
    "curr_centroid = centroids.iloc[0]\n",
    "for i in range(1, k):\n",
    "    farthest = None\n",
    "    dist = 0\n",
    "    for index, row in places.iterrows():\n",
    "        # selecting point furthest from current centroid\n",
    "        curr_dist = np.linalg.norm(np.array(curr_centroid) - np.array(row))\n",
    "        if curr_dist > dist:\n",
    "            farthest = row\n",
    "            dist = curr_dist\n",
    "    curr_centroid = farthest\n",
    "    centroids = centroids.append(curr_centroid)\n",
    "\n",
    "# setting cluster_no of each place\n",
    "cluster_no = np.repeat(-1, places.shape[0])\n",
    "places['cluster_no'] = cluster_no\n",
    "\n",
    "# run kmeans until convergence\n",
    "converged = False\n",
    "while not converged:\n",
    "    # assign each point to its closest centroid\n",
    "    for index, row in places.iterrows():\n",
    "        dist_c0 = geopy.distance.distance(np.array(centroids.iloc[0]),np.array(row)[:2]).km\n",
    "        dist_c1 = geopy.distance.distance(np.array(centroids.iloc[1]), np.array(row)[:2]).km        \n",
    "        dist_c2 = geopy.distance.distance(np.array(centroids.iloc[2]), np.array(row)[:2]).km\n",
    "        min_dist = np.array([dist_c0, dist_c1, dist_c2]).min()\n",
    "        if min_dist == dist_c0:\n",
    "            places.cluster_no.loc[index] = 0\n",
    "        elif min_dist == dist_c1:\n",
    "            places.cluster_no.loc[index] = 1\n",
    "        else:\n",
    "            places.cluster_no.loc[index] = 2\n",
    "    # recompute centroids of each cluster\n",
    "    new_centroid_x = np.array([])\n",
    "    new_centroid_y = np.array([])\n",
    "    for i in range(k):\n",
    "        centroid = places[places['cluster_no'] == i]\n",
    "        new_centroid_x = np.append(new_centroid_x, centroid.x.mean())\n",
    "        new_centroid_y = np.append(new_centroid_y, centroid.y.mean())\n",
    "    new_centroids = pd.DataFrame(data={'x': new_centroid_x, 'y': new_centroid_y})\n",
    "    if centroids.equals(new_centroids):\n",
    "        converged = True\n",
    "    else:\n",
    "        centroids = new_centroids\n",
    "places.head()"
   ]
  },
  {
   "cell_type": "code",
   "execution_count": 43,
   "metadata": {},
   "outputs": [],
   "source": [
    "# saving output to clusters.txt\n",
    "output = places.cluster_no\n",
    "output.to_csv('clusters.txt', sep=' ', index=True)"
   ]
  },
  {
   "cell_type": "code",
   "execution_count": 44,
   "metadata": {},
   "outputs": [],
   "source": [
    "# saving original output\n",
    "modified_places = places.copy(deep=True)"
   ]
  },
  {
   "cell_type": "code",
   "execution_count": 47,
   "metadata": {},
   "outputs": [
    {
     "data": {
      "text/plain": [
       "<matplotlib.axes._subplots.AxesSubplot at 0x2644b7c50f0>"
      ]
     },
     "execution_count": 47,
     "metadata": {},
     "output_type": "execute_result"
    },
    {
     "data": {
      "image/png": "[encoded data removed]",
      "text/plain": [
       "<Figure size 432x288 with 1 Axes>"
      ]
     },
     "metadata": {},
     "output_type": "display_data"
    }
   ],
   "source": [
    "# plotting all points \n",
    "places.plot.scatter(x='x', y='y')"
   ]
  },
  {
   "cell_type": "code",
   "execution_count": 48,
   "metadata": {},
   "outputs": [
    {
     "data": {
      "text/plain": [
       "<seaborn.axisgrid.FacetGrid at 0x2644b5f3ef0>"
      ]
     },
     "execution_count": 48,
     "metadata": {},
     "output_type": "execute_result"
    },
    {
     "data": {
      "image/png": "[encoded data removed]",
      "text/plain": [
       "<Figure size 399.01x216 with 1 Axes>"
      ]
     },
     "metadata": {},
     "output_type": "display_data"
    }
   ],
   "source": [
    "# plotting output\n",
    "seaborn.set(style='ticks')\n",
    "\n",
    "_cluster_no = [0, 1, 2]\n",
    "fg = seaborn.FacetGrid(data=places, hue='cluster_no', hue_order=_cluster_no, aspect=1.61)\n",
    "fg.map(plt.scatter, 'x', 'y').add_legend()"
   ]
  },
  {
   "cell_type": "code",
   "execution_count": 50,
   "metadata": {},
   "outputs": [
    {
     "data": {
      "text/plain": [
       "<seaborn.axisgrid.FacetGrid at 0x2644b899550>"
      ]
     },
     "execution_count": 50,
     "metadata": {},
     "output_type": "execute_result"
    },
    {
     "data": {
      "image/png": "[encoded data removed]",
      "text/plain": [
       "<Figure size 399.01x216 with 1 Axes>"
      ]
     },
     "metadata": {},
     "output_type": "display_data"
    }
   ],
   "source": [
    "_cluster_no = [1,2]\n",
    "subset_data = places[(places['cluster_no'] == 1) | (places['cluster_no'] == 2)]\n",
    "fg = seaborn.FacetGrid(data=subset_data, hue='cluster_no', hue_order=_cluster_no, aspect=1.61)\n",
    "fg.map(plt.scatter, 'x', 'y').add_legend()"
   ]
  },
  {
   "cell_type": "code",
   "execution_count": 51,
   "metadata": {},
   "outputs": [
    {
     "data": {
      "text/plain": [
       "<seaborn.axisgrid.FacetGrid at 0x2644b958c88>"
      ]
     },
     "execution_count": 51,
     "metadata": {},
     "output_type": "execute_result"
    },
    {
     "data": {
      "image/png": "[encoded data removed]",
      "text/plain": [
       "<Figure size 399.01x216 with 1 Axes>"
      ]
     },
     "metadata": {},
     "output_type": "display_data"
    }
   ],
   "source": [
    "_cluster_no = [0,2]\n",
    "subset_data = places[(places['cluster_no'] == 0) | (places['cluster_no'] == 2)]\n",
    "fg = seaborn.FacetGrid(data=subset_data, hue='cluster_no', hue_order=_cluster_no, aspect=1.61)\n",
    "fg.map(plt.scatter, 'x', 'y').add_legend()"
   ]
  },
  {
   "cell_type": "code",
   "execution_count": 52,
   "metadata": {},
   "outputs": [
    {
     "data": {
      "text/plain": [
       "<seaborn.axisgrid.FacetGrid at 0x2644b9c90f0>"
      ]
     },
     "execution_count": 52,
     "metadata": {},
     "output_type": "execute_result"
    },
    {
     "data": {
      "image/png": "[encoded data removed]",
      "text/plain": [
       "<Figure size 399.01x216 with 1 Axes>"
      ]
     },
     "metadata": {},
     "output_type": "display_data"
    }
   ],
   "source": [
    "_cluster_no = [0,1]\n",
    "subset_data = places[(places['cluster_no'] == 0) | (places['cluster_no'] == 1)]\n",
    "fg = seaborn.FacetGrid(data=subset_data, hue='cluster_no', hue_order=_cluster_no, aspect=1.61)\n",
    "fg.map(plt.scatter, 'x', 'y').add_legend()"
   ]
  },
  {
   "cell_type": "code",
   "execution_count": null,
   "metadata": {},
   "outputs": [],
   "source": []
  }
 ],
 "metadata": {
  "kernelspec": {
   "display_name": "Python 3",
   "language": "python",
   "name": "python3"
  },
  "language_info": {
   "codemirror_mode": {
    "name": "ipython",
    "version": 3
   },
   "file_extension": ".py",
   "mimetype": "text/x-python",
   "name": "python",
   "nbconvert_exporter": "python",
   "pygments_lexer": "ipython3",
   "version": "3.6.5"
  }
 },
 "nbformat": 4,
 "nbformat_minor": 2
}
