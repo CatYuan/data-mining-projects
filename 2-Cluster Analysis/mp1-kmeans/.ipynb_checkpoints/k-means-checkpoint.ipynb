{
 "cells": [
  {
   "cell_type": "code",
   "execution_count": 58,
   "metadata": {},
   "outputs": [
    {
     "ename": "ModuleNotFoundError",
     "evalue": "No module named 'geopy'",
     "output_type": "error",
     "traceback": [
      "\u001b[1;31m---------------------------------------------------------------------------\u001b[0m",
      "\u001b[1;31mModuleNotFoundError\u001b[0m                       Traceback (most recent call last)",
      "\u001b[1;32m<ipython-input-58-dc1f673f9bbb>\u001b[0m in \u001b[0;36m<module>\u001b[1;34m\u001b[0m\n\u001b[0;32m      2\u001b[0m \u001b[1;32mimport\u001b[0m \u001b[0mpandas\u001b[0m \u001b[1;32mas\u001b[0m \u001b[0mpd\u001b[0m\u001b[1;33m\u001b[0m\u001b[1;33m\u001b[0m\u001b[0m\n\u001b[0;32m      3\u001b[0m \u001b[1;32mimport\u001b[0m \u001b[0mmath\u001b[0m\u001b[1;33m\u001b[0m\u001b[1;33m\u001b[0m\u001b[0m\n\u001b[1;32m----> 4\u001b[1;33m \u001b[1;32mimport\u001b[0m \u001b[0mgeopy\u001b[0m\u001b[1;33m.\u001b[0m\u001b[0mdistance\u001b[0m\u001b[1;33m\u001b[0m\u001b[1;33m\u001b[0m\u001b[0m\n\u001b[0m",
      "\u001b[1;31mModuleNotFoundError\u001b[0m: No module named 'geopy'"
     ]
    }
   ],
   "source": [
    "import numpy as np\n",
    "import pandas as pd\n",
    "import math\n",
    "import geopy.distance"
   ]
  },
  {
   "cell_type": "code",
   "execution_count": 54,
   "metadata": {},
   "outputs": [],
   "source": [
    "# reading input from file\n",
    "places = pd.read_csv('./places.txt', header=None, names=['x', 'y'])"
   ]
  },
  {
   "cell_type": "code",
   "execution_count": 55,
   "metadata": {},
   "outputs": [],
   "source": [
    "# helper function for calculating distance based on long. + latt.\n",
    "def distance(loc1, loc2):\n",
    "    R = 6373.0\n",
    "    lat1 = math.radians(loc1[1])\n",
    "    lon1 = math.radians(loc1[0])\n",
    "    lat2 = math.radians(loc2[1])\n",
    "    lon2 = math.radians(loc2[1])\n",
    "    dlon = lon2 - lon1\n",
    "    dlat = lat2 - lat1\n",
    "    a = math.sin(dlat / 2)**2 + math.cos(lat1) * math.cos(lat2) * math.sin(dlon / 2)**2\n",
    "    c = 2 * math.atan2(math.sqrt(a), math.sqrt(1 - a))\n",
    "    return R*c"
   ]
  },
  {
   "cell_type": "code",
   "execution_count": 56,
   "metadata": {},
   "outputs": [
    {
     "data": {
      "text/html": [
       "<div>\n",
       "<style scoped>\n",
       "    .dataframe tbody tr th:only-of-type {\n",
       "        vertical-align: middle;\n",
       "    }\n",
       "\n",
       "    .dataframe tbody tr th {\n",
       "        vertical-align: top;\n",
       "    }\n",
       "\n",
       "    .dataframe thead th {\n",
       "        text-align: right;\n",
       "    }\n",
       "</style>\n",
       "<table border=\"1\" class=\"dataframe\">\n",
       "  <thead>\n",
       "    <tr style=\"text-align: right;\">\n",
       "      <th></th>\n",
       "      <th>x</th>\n",
       "      <th>y</th>\n",
       "      <th>cluster_no</th>\n",
       "    </tr>\n",
       "  </thead>\n",
       "  <tbody>\n",
       "    <tr>\n",
       "      <td>0</td>\n",
       "      <td>-112.070792</td>\n",
       "      <td>33.451625</td>\n",
       "      <td>2</td>\n",
       "    </tr>\n",
       "    <tr>\n",
       "      <td>1</td>\n",
       "      <td>-112.065542</td>\n",
       "      <td>33.449298</td>\n",
       "      <td>2</td>\n",
       "    </tr>\n",
       "    <tr>\n",
       "      <td>2</td>\n",
       "      <td>-112.073931</td>\n",
       "      <td>33.456491</td>\n",
       "      <td>2</td>\n",
       "    </tr>\n",
       "    <tr>\n",
       "      <td>3</td>\n",
       "      <td>-112.074866</td>\n",
       "      <td>33.470116</td>\n",
       "      <td>2</td>\n",
       "    </tr>\n",
       "    <tr>\n",
       "      <td>4</td>\n",
       "      <td>-80.525690</td>\n",
       "      <td>43.477099</td>\n",
       "      <td>2</td>\n",
       "    </tr>\n",
       "  </tbody>\n",
       "</table>\n",
       "</div>"
      ],
      "text/plain": [
       "            x          y  cluster_no\n",
       "0 -112.070792  33.451625           2\n",
       "1 -112.065542  33.449298           2\n",
       "2 -112.073931  33.456491           2\n",
       "3 -112.074866  33.470116           2\n",
       "4  -80.525690  43.477099           2"
      ]
     },
     "execution_count": 56,
     "metadata": {},
     "output_type": "execute_result"
    }
   ],
   "source": [
    "# running kmeans algo\n",
    "k = 3\n",
    "\n",
    "# setting initial centroids using kmeans++\n",
    "centroids = places.sample()\n",
    "curr_centroid = centroids.iloc[0]\n",
    "for i in range(1, k):\n",
    "    farthest = None\n",
    "    dist = 0\n",
    "    for index, row in places.iterrows():\n",
    "        # selecting point furthest from current centroid\n",
    "        curr_dist = np.linalg.norm(np.array(curr_centroid) - np.array(row))\n",
    "        if curr_dist > dist:\n",
    "            farthest = row\n",
    "            dist = curr_dist\n",
    "    curr_centroid = farthest\n",
    "    centroids = centroids.append(curr_centroid)\n",
    "\n",
    "# setting cluster_no of each place\n",
    "cluster_no = np.repeat(-1, places.shape[0])\n",
    "places['cluster_no'] = cluster_no\n",
    "\n",
    "# run kmeans until convergence\n",
    "converged = False\n",
    "while not converged:\n",
    "    # assign each point to its closest centroid\n",
    "    for index, row in places.iterrows():\n",
    "        dist_c0 = distance(np.array(centroids.iloc[0]),np.array(row)[:2])\n",
    "        dist_c1 = distance(np.array(centroids.iloc[1]), np.array(row)[:2])        \n",
    "        dist_c2 = distance(np.array(centroids.iloc[2]), np.array(row)[:2])\n",
    "        min_dist = np.array([dist_c0, dist_c1, dist_c2]).min()\n",
    "        if min_dist == dist_c0:\n",
    "            places.cluster_no.loc[index] = 0\n",
    "        elif min_dist == dist_c1:\n",
    "            places.cluster_no.loc[index] = 1\n",
    "        else:\n",
    "            places.cluster_no.loc[index] = 2\n",
    "    # recompute centroids of each cluster\n",
    "    new_centroid_x = np.array([])\n",
    "    new_centroid_y = np.array([])\n",
    "    for i in range(k):\n",
    "        centroid = places[places['cluster_no'] == i]\n",
    "        new_centroid_x = np.append(new_centroid_x, centroid.x.mean())\n",
    "        new_centroid_y = np.append(new_centroid_y, centroid.y.mean())\n",
    "    new_centroids = pd.DataFrame(data={'x': new_centroid_x, 'y': new_centroid_y})\n",
    "    if centroids.equals(new_centroids):\n",
    "        converged = True\n",
    "    else:\n",
    "        centroids = new_centroids\n",
    "places.head()"
   ]
  },
  {
   "cell_type": "code",
   "execution_count": 57,
   "metadata": {},
   "outputs": [
    {
     "name": "stderr",
     "output_type": "stream",
     "text": [
      "C:\\Users\\cathe\\Miniconda3\\lib\\site-packages\\ipykernel_launcher.py:3: FutureWarning: The signature of `Series.to_csv` was aligned to that of `DataFrame.to_csv`, and argument 'header' will change its default value from False to True: please pass an explicit value to suppress this warning.\n",
      "  This is separate from the ipykernel package so we can avoid doing imports until\n"
     ]
    }
   ],
   "source": [
    "# saving output to clusters.txt\n",
    "output = places.cluster_no\n",
    "output.to_csv('clusters.txt', sep=' ', index=True)"
   ]
  },
  {
   "cell_type": "code",
   "execution_count": null,
   "metadata": {},
   "outputs": [],
   "source": []
  }
 ],
 "metadata": {
  "kernelspec": {
   "display_name": "Python 3",
   "language": "python",
   "name": "python3"
  },
  "language_info": {
   "codemirror_mode": {
    "name": "ipython",
    "version": 3
   },
   "file_extension": ".py",
   "mimetype": "text/x-python",
   "name": "python",
   "nbconvert_exporter": "python",
   "pygments_lexer": "ipython3",
   "version": "3.7.3"
  }
 },
 "nbformat": 4,
 "nbformat_minor": 2
}
